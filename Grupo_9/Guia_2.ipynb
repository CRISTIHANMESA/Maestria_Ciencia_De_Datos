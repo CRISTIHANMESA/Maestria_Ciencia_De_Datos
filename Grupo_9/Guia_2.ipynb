{
  "nbformat": 4,
  "nbformat_minor": 0,
  "metadata": {
    "colab": {
      "provenance": [],
      "include_colab_link": true
    },
    "kernelspec": {
      "name": "python3",
      "display_name": "Python 3"
    },
    "language_info": {
      "name": "python"
    }
  },
  "cells": [
    {
      "cell_type": "markdown",
      "metadata": {
        "id": "view-in-github",
        "colab_type": "text"
      },
      "source": [
        "<a href=\"https://colab.research.google.com/github/CRISTIHANMESA/Maestria_Ciencia_De_Datos/blob/main/Grupo_9/Guia_2.ipynb\" target=\"_parent\"><img src=\"https://colab.research.google.com/assets/colab-badge.svg\" alt=\"Open In Colab\"/></a>"
      ]
    },
    {
      "cell_type": "markdown",
      "source": [
        "# **Guía 2**\n",
        "\n",
        "Objetivo: aplicar los conceptos de Pandas en la manipulación y análisis de datos estructurados. Se trabajará con Series y DataFrames, aplicando técnicas de acceso, selección, filtrado y agregación de datos.\n",
        "\n",
        "### **Caso de Negocio: Análisis de Deserción de Clientes en una Empresa de Telecomunicaciones**\n",
        "\n",
        "**Contexto**\n",
        "\n",
        "En la industria de las telecomunicaciones, la retención de clientes es un factor crítico para la sostenibilidad del negocio. La competencia es feroz y adquirir nuevos clientes suele ser más costoso que mantener a los actuales. En este análisis, exploraremos un conjunto de datos que contiene información detallada sobre clientes que han abandonado el servicio (churn) y aquellos que permanecen activos.\n",
        "\n",
        "Nuestro objetivo es identificar los factores clave que influyen en la deserción, comprender patrones de comportamiento y generar estrategias efectivas para reducir la tasa de abandono.\n",
        "\n",
        "La empresa ha experimentado un aumento en la tasa de deserción de clientes, lo que ha provocado:\n",
        "- Pérdida de ingresos recurrentes.\n",
        "- Incremento en los costos de adquisición de nuevos clientes.\n",
        "- Menor estabilidad en la base de clientes a largo plazo.\n",
        "\n",
        "Para abordar esta problemática, es crucial identificar las razones detrás de la deserción y desarrollar estrategias para mejorar la retención de clientes.\n",
        "\n"
      ],
      "metadata": {
        "id": "sVxeQki8vRXz"
      }
    },
    {
      "cell_type": "code",
      "source": [
        "from google.colab import drive\n",
        "drive.mount('/content/drive')"
      ],
      "metadata": {
        "id": "X3jI8z1tcgKD",
        "colab": {
          "base_uri": "https://localhost:8080/"
        },
        "outputId": "fafe96e7-b079-4167-aec1-5832a01ceed5"
      },
      "execution_count": null,
      "outputs": [
        {
          "output_type": "stream",
          "name": "stdout",
          "text": [
            "Mounted at /content/drive\n"
          ]
        }
      ]
    },
    {
      "cell_type": "markdown",
      "source": [
        "**Entrega del Trabajo**\n",
        "\n",
        "Los estudiantes deben trabajar en grupos de entre 2 y 4 personas. Cada grupo deberá subir su trabajo a un repositorio de GitHub, asegurándose de que el código y los archivos necesarios estén bien organizados y documentados. Posteriormente, deberán enviar el enlace del repositorio en la plataforma Canvas para su evaluación.\n",
        "\n",
        "Instrucciones para la entrega:\n",
        "\n",
        "Crear un repositorio en GitHub con un nombre descriptivo para el proyecto.\n",
        "\n",
        "Subir el código en Jupyter Notebook (.ipynb) o en formato Python (.py).\n",
        "\n",
        "Incluir un archivo README.md con una breve descripción del trabajo y las instrucciones de ejecución.\n",
        "\n",
        "Compartir el enlace del repositorio en Canvas dentro del plazo establecido.\n",
        "\n"
      ],
      "metadata": {
        "id": "TBsud25XSR0w"
      }
    },
    {
      "cell_type": "markdown",
      "source": [
        "**Descripción de las variables del dataset telecom_churn**\n",
        "\n",
        "El dataset telecom_churn contiene información detallada sobre clientes de una empresa de telecomunicaciones, incluyendo datos generales, planes contratados, uso del servicio telefónico y llamadas al servicio al cliente. Su propósito principal es analizar patrones de deserción de clientes, identificados a través de la variable churn, que indica si un cliente ha abandonado la empresa (1) o sigue siendo cliente (0).\n",
        "\n",
        "Dentro del dataset, encontramos información general como el estado (state) donde reside el cliente, el código de área (area code), y el número de teléfono (phone number), aunque esta última variable no aporta información útil para el análisis, ya que es un identificador único.\n",
        "\n",
        "Además, el dataset registra el tiempo que un cliente ha estado en la empresa a través de la variable account length, lo que puede ayudar a analizar si la duración del contrato influye en la deserción. También se incluyen detalles sobre los planes contratados, como si el cliente tiene un plan internacional (international plan), que le permite realizar llamadas internacionales, o un buzón de voz (voice mail plan), que le permite recibir mensajes de voz.\n",
        "\n",
        "En cuanto al uso del servicio, se registran datos detallados sobre el tiempo en llamadas y los costos asociados. Se divide en tres períodos del día: diurno (total day minutes, total day calls, total day charge), vespertino (total eve minutes, total eve calls, total eve charge) y nocturno (total night minutes, total night calls, total night charge), lo que permite evaluar si hay patrones de consumo que influyen en la deserción. También se incluye información sobre el uso del servicio internacional, con variables como total intl minutes (minutos en llamadas internacionales), total intl calls (cantidad de llamadas internacionales) y total intl charge (costos por llamadas internacionales).\n",
        "\n",
        "Otro aspecto clave del dataset es el número de llamadas al servicio al cliente (customer service calls), ya que una mayor cantidad de llamadas puede indicar insatisfacción y estar relacionada con la decisión del cliente de abandonar la empresa.\n",
        "\n",
        "Finalmente, la variable más importante del análisis es churn, que indica si un cliente ha desertado de la empresa. A partir de esta variable, podemos analizar qué factores influyen en la deserción y encontrar patrones en los clientes que tienen mayor probabilidad de abandonar el servicio.\n"
      ],
      "metadata": {
        "id": "R1eyqBGSScta"
      }
    },
    {
      "cell_type": "markdown",
      "source": [
        "**Exploración y Limpieza de Datos**\n",
        "\n",
        "Cargar y explorar el dataset\n",
        "\n",
        "Importa Pandas y carga el dataset telecom_churn.csv en un DataFrame.\n",
        "\n",
        "Muestra las primeras 5 filas del DataFrame.\n",
        "\n",
        "Verifica cuántas filas y columnas tiene el dataset.\n",
        "\n",
        "Muestra información general del dataset, incluyendo los tipos de datos.\n",
        "\n",
        "Identifica si hay valores nulos en alguna columna."
      ],
      "metadata": {
        "id": "-gqRGJ8yFs5Y"
      }
    },
    {
      "cell_type": "code",
      "source": [],
      "metadata": {
        "id": "Ti7xDgcQSY0K"
      },
      "execution_count": null,
      "outputs": []
    },
    {
      "cell_type": "code",
      "source": [],
      "metadata": {
        "id": "gkFzPHIlSYbv"
      },
      "execution_count": null,
      "outputs": []
    },
    {
      "cell_type": "markdown",
      "source": [],
      "metadata": {
        "id": "UxBEzSGfSYF1"
      }
    },
    {
      "cell_type": "markdown",
      "source": [],
      "metadata": {
        "id": "Pznm_NLOSXmy"
      }
    },
    {
      "cell_type": "code",
      "execution_count": 2,
      "metadata": {
        "id": "wuoyvrE0vQ09",
        "colab": {
          "base_uri": "https://localhost:8080/"
        },
        "outputId": "304fa3eb-55fc-4644-a39c-ae4aa8552d9b"
      },
      "outputs": [
        {
          "output_type": "stream",
          "name": "stdout",
          "text": [
            "Requirement already satisfied: pandas in /usr/local/lib/python3.11/dist-packages (2.2.2)\n",
            "Requirement already satisfied: numpy>=1.23.2 in /usr/local/lib/python3.11/dist-packages (from pandas) (1.26.4)\n",
            "Requirement already satisfied: python-dateutil>=2.8.2 in /usr/local/lib/python3.11/dist-packages (from pandas) (2.8.2)\n",
            "Requirement already satisfied: pytz>=2020.1 in /usr/local/lib/python3.11/dist-packages (from pandas) (2025.1)\n",
            "Requirement already satisfied: tzdata>=2022.7 in /usr/local/lib/python3.11/dist-packages (from pandas) (2025.1)\n",
            "Requirement already satisfied: six>=1.5 in /usr/local/lib/python3.11/dist-packages (from python-dateutil>=2.8.2->pandas) (1.17.0)\n",
            "las primeras 5 filas del DataFrame corresponden : \n",
            " \n",
            "   state  account length  area code phone number international plan  \\\n",
            "0    KS             128        415     382-4657                 no   \n",
            "1    OH             107        415     371-7191                 no   \n",
            "2    NJ             137        415     358-1921                 no   \n",
            "3    OH              84        408     375-9999                yes   \n",
            "4    OK              75        415     330-6626                yes   \n",
            "\n",
            "  voice mail plan  number vmail messages  total day minutes  total day calls  \\\n",
            "0             yes                     25              265.1              110   \n",
            "1             yes                     26              161.6              123   \n",
            "2              no                      0              243.4              114   \n",
            "3              no                      0              299.4               71   \n",
            "4              no                      0              166.7              113   \n",
            "\n",
            "   total day charge  ...  total eve calls  total eve charge  \\\n",
            "0             45.07  ...               99             16.78   \n",
            "1             27.47  ...              103             16.62   \n",
            "2             41.38  ...              110             10.30   \n",
            "3             50.90  ...               88              5.26   \n",
            "4             28.34  ...              122             12.61   \n",
            "\n",
            "   total night minutes  total night calls  total night charge  \\\n",
            "0                244.7                 91               11.01   \n",
            "1                254.4                103               11.45   \n",
            "2                162.6                104                7.32   \n",
            "3                196.9                 89                8.86   \n",
            "4                186.9                121                8.41   \n",
            "\n",
            "   total intl minutes  total intl calls  total intl charge  \\\n",
            "0                10.0                 3               2.70   \n",
            "1                13.7                 3               3.70   \n",
            "2                12.2                 5               3.29   \n",
            "3                 6.6                 7               1.78   \n",
            "4                10.1                 3               2.73   \n",
            "\n",
            "   customer service calls  churn  \n",
            "0                       1  False  \n",
            "1                       1  False  \n",
            "2                       0  False  \n",
            "3                       2  False  \n",
            "4                       3  False  \n",
            "\n",
            "[5 rows x 21 columns]\n",
            "\n",
            " * Muestra información general del dataset, incluyendo los tipos de datos: \n",
            "\n",
            "<class 'pandas.core.frame.DataFrame'>\n",
            "RangeIndex: 3333 entries, 0 to 3332\n",
            "Data columns (total 21 columns):\n",
            " #   Column                  Non-Null Count  Dtype  \n",
            "---  ------                  --------------  -----  \n",
            " 0   state                   3333 non-null   object \n",
            " 1   account length          3333 non-null   int64  \n",
            " 2   area code               3333 non-null   int64  \n",
            " 3   phone number            3333 non-null   object \n",
            " 4   international plan      3333 non-null   object \n",
            " 5   voice mail plan         3333 non-null   object \n",
            " 6   number vmail messages   3333 non-null   int64  \n",
            " 7   total day minutes       3333 non-null   float64\n",
            " 8   total day calls         3333 non-null   int64  \n",
            " 9   total day charge        3333 non-null   float64\n",
            " 10  total eve minutes       3333 non-null   float64\n",
            " 11  total eve calls         3333 non-null   int64  \n",
            " 12  total eve charge        3333 non-null   float64\n",
            " 13  total night minutes     3333 non-null   float64\n",
            " 14  total night calls       3333 non-null   int64  \n",
            " 15  total night charge      3333 non-null   float64\n",
            " 16  total intl minutes      3333 non-null   float64\n",
            " 17  total intl calls        3333 non-null   int64  \n",
            " 18  total intl charge       3333 non-null   float64\n",
            " 19  customer service calls  3333 non-null   int64  \n",
            " 20  churn                   3333 non-null   bool   \n",
            "dtypes: bool(1), float64(8), int64(8), object(4)\n",
            "memory usage: 524.2+ KB\n",
            " Valores faltantes en cada columna:\n",
            "state                     0\n",
            "account length            0\n",
            "area code                 0\n",
            "phone number              0\n",
            "international plan        0\n",
            "voice mail plan           0\n",
            "number vmail messages     0\n",
            "total day minutes         0\n",
            "total day calls           0\n",
            "total day charge          0\n",
            "total eve minutes         0\n",
            "total eve calls           0\n",
            "total eve charge          0\n",
            "total night minutes       0\n",
            "total night calls         0\n",
            "total night charge        0\n",
            "total intl minutes        0\n",
            "total intl calls          0\n",
            "total intl charge         0\n",
            "customer service calls    0\n",
            "churn                     0\n",
            "dtype: int64\n"
          ]
        }
      ],
      "source": [
        "# Solución propuesta\n",
        "\n",
        "#\\n \\n\n",
        "# ==============================\n",
        "# Importa Pandas y carga el dataset telecom_churn.csv en un DataFrame. \\n \\n\n",
        "# ==============================\n",
        "!pip install pandas # Al Usar '!' para ejecutarlo como un comando de shell en Jupyter Notebook..\n",
        "import pandas as pd\n",
        "#os.makedirs('Prueba_Guia_2', exist_ok=True)  # Creamos  un nuevo directorio\n",
        "#os.path.exists('/content/Prueba_Guia_2/telecom_churn.csv')  # Devuelve True si el archivo o directorio existe\n",
        "df1 = pd.read_csv('/content/Prueba_Guia_2/telecom_churn.csv')  # Lee el archivo CSV en un DataFrame\n",
        "#\\n \\n\n",
        "# ==============================\n",
        "# Muestra las primeras 5 filas del DataFrame. \\n \\n\n",
        "# ==============================\n",
        "df1.head(5)  # Muestra las primeras 5 filas del DataFrame\n",
        "print(f\"las primeras 5 filas del DataFrame corresponden : \\n \\n {df1.head(5)}\")\n",
        "#\\n \\n\n",
        "# ==============================\n",
        "# Verifica cuántas filas y columnas tiene el dataset.\n",
        "#\\n \\n\n",
        "# ==============================\n",
        "#df1.shape    #(3333,21) Muestra el Numero total de Filas y Columnas.\n",
        "\n",
        "# ==============================\n",
        "#Muestra información general del dataset, incluyendo los tipos de datos.\n",
        "#\n",
        "# ==============================\n",
        "print('\\n * Muestra información general del dataset, incluyendo los tipos de datos: \\n')\n",
        "df1.info()  # Muestra información general del DataFrame, incluyendo los tipos de datos\n",
        "print(\" Valores faltantes en cada columna:\")\n",
        "print(df1.isnull().sum())\n",
        "#print(df1.isnull())  # muestra lo valores nulos de cada columna.\n",
        "#print(f\"Los valores nulos de cada columna corresponden a: \\n \\n {df1.isnull()}\")   # No se tienen VALORES NULOS\n",
        "#print(df1.isnull())  # muestra lo valores nulos de cada columna.\n",
        "\n",
        "\n"
      ]
    },
    {
      "cell_type": "markdown",
      "source": [
        "**Análisis de Churn y Factores Relacionados**\n",
        "\n",
        "Calcula el porcentaje de clientes que han desertado (churn = 1).\n",
        "\n",
        "Identifica si los clientes con plan internacional (international plan) tienen mayor tasa de deserción.\n",
        "\n",
        "Identifica si los clientes con buzón de voz (voice mail plan) tienen menor tasa de deserción."
      ],
      "metadata": {
        "id": "PIGXq-ijFgb4"
      }
    },
    {
      "cell_type": "code",
      "source": [
        "# Solución propuesta\n",
        "\n",
        "\n",
        "# ==============================\n",
        "#### Calcula el porcentaje de clientes que han desertado (churn = 1).\n",
        "# ==============================\n",
        "#df1.head()  # Muestra las primeras 5 filas del DataFrame\n",
        "df=(df1['churn']==True)\n",
        "df1_int = int(sum(df))     #483 usuarios ahn deseratado\n",
        "Num_filas_Totales = int(len(df1)) #3333 usuarios totales\n",
        "Porce_clientes_Desertados= ((df1_int/Num_filas_Totales)*100) # Saco el porcetale de desertados\n",
        "#print(Porce_clientes_Desertados)\n",
        "Porce_clientes_Desertados = round((df1_int / Num_filas_Totales) * 100, 2)  #redondeo el Porcentaje de clientes desertados\n",
        "print(f\"El porcentaje de clientes que han desertado es: {Porce_clientes_Desertados}%\")\n",
        "# ==============================\n",
        "###Identifica si los clientes con plan internacional (international plan) tienen mayor tasa de deserción\n",
        "# ==============================\n",
        "df2 = df1[df1['international plan'] == 'yes']                        # Numero de Usuraios con Plan internacional\n",
        "#print(' \\n Plan  internacionnal son', df2)\n",
        "Total_Internacionales = int(len(df2))\n",
        "print(' \\n Usuarios con Plan  internacionnal son:', Total_Internacionales) # 323\n",
        "# ==============================# ==============================# ==============================# ==========================\n",
        "df3 = df1[(df1['international plan'] == 'yes') & (df1['churn'] == True)]\n",
        "#print(' \\n Plan  internacionnal son desertados', df3)\n",
        "internacionales_desertados = int(len(df3))\n",
        "print(' Usuarios con Plan internacion sertados son :', internacionales_desertados)\n",
        "# ==============================# ==============================# ==============================# ==========================\n",
        "df4 = df1[df1['voice mail plan'] == 'yes']       # Numero de Usuraios con Correo de voz\n",
        "#print(' \\n voice mail plan', df4)\n",
        "Total_Correo_de_Voz = int(len(df4))\n",
        "print('\\n Plan   de correo de Voz :', Total_Correo_de_Voz )\n",
        "# ==============================# ==============================# ==============================# ==========================\n",
        "df5 = df1[(df1['voice mail plan'] == 'yes') & (df1['churn'] == True)]\n",
        "#print(' \\n voice mail plan desertados', df5)\n",
        "Plan_Correo_voz = int(len(df5))\n",
        "print (' Usuarios con el Plan de Correo de Voz sertados son:', Plan_Correo_voz)\n",
        "# ==============================\n",
        "\n",
        "print ('\\n Concluimos que los planes con mayor numero de desercion es el internacional, respecto al de Correo de Voz')\n",
        "\n",
        "\n",
        "# Identifica si los clientes con buzón de voz (voice mail plan) tienen menor tasa de deserción."
      ],
      "metadata": {
        "id": "3_TFqdwBwUD-",
        "colab": {
          "base_uri": "https://localhost:8080/"
        },
        "outputId": "35fb220b-b1ac-40e4-a0fb-58210700fefd"
      },
      "execution_count": null,
      "outputs": [
        {
          "output_type": "stream",
          "name": "stdout",
          "text": [
            "El porcentaje de clientes que han desertado es: 14.49%\n",
            " \n",
            " Usuarios con Plan  internacionnal son: 323\n",
            " Usuarios con Plan internacion sertados son : 137\n",
            "\n",
            " Plan   de correo de Voz : 922\n",
            " Usuarios con el Plan de Correo de Voz sertados son: 80\n",
            "\n",
            " Concluimos que los planes con mayor numero de desercion es el internacional, respecto al de Correo de Voz\n"
          ]
        }
      ]
    },
    {
      "cell_type": "markdown",
      "source": [
        "**Análisis de la Duración del Servicio y Deserción**\n",
        "\n",
        "¿Cuál es la duración promedio de la cuenta (account length) entre clientes que desertaron y los que permanecen?\n",
        "\n",
        "¿Los clientes con cuentas más antiguas tienen más probabilidades de desertar?"
      ],
      "metadata": {
        "id": "yL8Y_juFFup7"
      }
    },
    {
      "cell_type": "code",
      "source": [
        "# Solución propuesta\n",
        "\n",
        "Duración_Promedio_de_la_Cuenta_Desertados = round(df1[df1['churn'] == True]['account length'].mean())\n",
        "Duración_Promedio_de_la_Cuenta_No_Desertados = round(df1[df1['churn'] == False]['account length'].mean())\n",
        "\n",
        "print(f\"Duración_Promedio_de_la_Cuenta_Desertados: {Duración_Promedio_de_la_Cuenta_Desertados}\")\n",
        "print(f\"Duración_Promedio_de_la_Cuenta_No_Desertado: {Duración_Promedio_de_la_Cuenta_No_Desertados}\")\n",
        "\n",
        "\n",
        "\n",
        "#¿Los clientes con cuentas más antiguas tienen más probabilidades de desertar?  No Realizar.....\n"
      ],
      "metadata": {
        "id": "7ViU0n6lGFao",
        "colab": {
          "base_uri": "https://localhost:8080/"
        },
        "outputId": "a22639e9-14a8-4dcf-8040-7b38b34b81a2"
      },
      "execution_count": null,
      "outputs": [
        {
          "output_type": "stream",
          "name": "stdout",
          "text": [
            "Duración_Promedio_de_la_Cuenta_Desertados: 103\n",
            "Duración_Promedio_de_la_Cuenta_No_Desertado: 101\n"
          ]
        }
      ]
    },
    {
      "cell_type": "markdown",
      "source": [
        "**Relación entre Deserción y Uso del Servicio**\n",
        "\n",
        "Compara la cantidad de minutos usados en llamadas diurnas (total day minutes) entre clientes con y sin churn.\n",
        "\n",
        "Compara la cantidad de minutos usados en llamadas nocturnas (total night minutes).\n",
        "\n",
        "Compara el número total de llamadas (total day calls) entre clientes con y sin churn."
      ],
      "metadata": {
        "id": "vyaa82K0GF6B"
      }
    },
    {
      "cell_type": "code",
      "source": [
        "# Solución propuesta\n",
        "\n",
        "# Solución propuesta\n",
        "\n",
        "### Compara la cantidad de minutos usados en llamadas diurnas (total day minutes) entre clientes desertados y sin desertar\n",
        "Promedio_Minutos_Dia_Desertados = round(df1[df1['churn'] == True]['total day minutes'].mean())\n",
        "Promedio_Minutos_Dia_No_Desertados = round(df1[df1['churn'] == False]['total day minutes'].mean())\n",
        "\n",
        "### Compara la cantidad de minutos usados en llamadas nocturnas (total night minutes).\n",
        "Promedio_Minutos_Docturnos_Desertados = round(df1[df1['churn'] == True]['total night minutes'].mean())\n",
        "Promedio_Minutos_Nocturnos_No_Desertados = round(df1[df1['churn'] == False]['total night minutes'].mean())\n",
        "\n",
        "### Compara el número total de llamadas (total day calls) entre clientes con y sin churn\n",
        "Promedio_Total_De_Llamadas_Dertados = round(df1[df1['churn'] == True]['total day calls'].mean())\n",
        "Promedio_Total_De_Llamadas_No_Dertados = round(df1[df1['churn'] == False]['total day calls'].mean())\n",
        "\n",
        "\n",
        "print(f\"Promedio minutos Dia en clientes desertados: {Promedio_Minutos_Dia_Desertados}\")\n",
        "print(f\"Promedio_minutos Dia  en Clinetes  No desertados: {Promedio_Minutos_Dia_No_Desertados}\")\n",
        "print(f\"Promedio minutos Nocturnos en clientes Desertados: {Promedio_Minutos_Docturnos_Desertados}\")\n",
        "print(f\"Promedio_minutos_Nocturnos en Clinetes  No desertados: {Promedio_Minutos_Nocturnos_No_Desertados}\")\n",
        "print(f\"Promedio_Total_De_Llamadas_Dertados: {Promedio_Total_De_Llamadas_Dertados}\")\n",
        "print(f\"Promedio_Total_De_Llamadas_No_Dertados: {Promedio_Total_De_Llamadas_No_Dertados}\")\n"
      ],
      "metadata": {
        "id": "d4aPKcv2GrpL",
        "colab": {
          "base_uri": "https://localhost:8080/"
        },
        "outputId": "135bccab-fc0f-4ed5-e935-b87957fc4425"
      },
      "execution_count": null,
      "outputs": [
        {
          "output_type": "stream",
          "name": "stdout",
          "text": [
            "Promedio minutos Dia en clientes desertados: 207\n",
            "Promedio_minutos Dia  en Clinetes  No desertados: 175\n",
            "Promedio minutos Nocturnos en clientes Desertados: 205\n",
            "Promedio_minutos_Nocturnos en Clinetes  No desertados: 200\n",
            "Promedio_Total_De_Llamadas_Dertados: 101\n",
            "Promedio_Total_De_Llamadas_No_Dertados: 100\n"
          ]
        }
      ]
    },
    {
      "cell_type": "markdown",
      "source": [
        "**Impacto de las Llamadas al Servicio al Cliente en la Deserción**\n",
        "\n",
        "Calcula el número promedio de llamadas al servicio al cliente (customer service calls) entre clientes que desertaron y los que no.\n",
        "\n",
        "Divide los clientes en dos grupos:\n",
        "\n",
        "- Grupo 1: Clientes que llamaron más de 3 veces al servicio al cliente.\n",
        "- Grupo 2: Clientes que llamaron 3 veces o menos.\n",
        "Compara la tasa de churn entre ambos grupos."
      ],
      "metadata": {
        "id": "aKl9LnZgGsDT"
      }
    },
    {
      "cell_type": "code",
      "source": [
        "from pickle import FALSE\n",
        "# Solución propuesta\n",
        "#Calcula el número promedio de llamadas al servicio al cliente (customer service calls) entre clientes que desertaron y los que no.\n",
        "\n",
        "\n",
        "\n",
        "Promedio_de_Llamadas_Al_Servicio_Al_Cliente_Desertaron = round(df1[df1['churn'] == True]['customer service calls'].mean())\n",
        "Promedio_de_llamadas_al_servicio_Al_Cliente_No_Desertaron = round(df1[df1['churn'] == False]['customer service calls'].mean())\n",
        "\n",
        "print(f\"Promedio minutos Dia en clientes Desertados: {Promedio_de_Llamadas_Al_Servicio_Al_Cliente_Desertaron}\")\n",
        "print(f\"Promedio_minutos Dia  en Clinetes  No Desertados: {Promedio_de_llamadas_al_servicio_Al_Cliente_No_Desertaron}\")\n",
        "\n",
        "\n",
        "#Divide los clientes en dos grupos:\n",
        "#Grupo 1: Clientes que llamaron más de 3 veces al servicio al cliente.\n",
        "# Solución propuesta\n",
        "#Calcula el número promedio de llamadas al servicio al cliente (customer service calls) entre clientes que desertaron y los que no.\n",
        "\n",
        "\n",
        "\n",
        "Promedio_de_Llamadas_Al_Servicio_Al_Cliente_Desertaron = round(df1[df1['churn'] == True]['customer service calls'].mean())\n",
        "Promedio_de_llamadas_al_servicio_Al_Cliente_No_Desertaron = round(df1[df1['churn'] == False]['customer service calls'].mean())\n",
        "\n",
        "print(f\"Promedio minutos Dia en clientes Desertados: {Promedio_de_Llamadas_Al_Servicio_Al_Cliente_Desertaron}\")\n",
        "print(f\"Promedio_minutos Dia  en Clinetes  No Desertados: {Promedio_de_llamadas_al_servicio_Al_Cliente_No_Desertaron}\")\n",
        "\n",
        "\n",
        "#Divide los clientes en dos grupos:\n",
        "#Grupo 1: Clientes que llamaron más de 3 veces al servicio al cliente.\n",
        "\n",
        "\n",
        "total_clientes_mas_de_3_llamadas = len(df1[df1['customer service calls'] > 3])\n",
        "#print(f\"Total de clientes que llamaron más de 3 veces al servicio al cliente: {total_clientes_mas_de_3_llamadas}\")\n",
        "print(\"Total de clientes que llamaron más de 3 veces al servicio al cliente: \",total_clientes_mas_de_3_llamadas)\n",
        "\n",
        "#Grupo 2: Clientes que llamaron 3 veces o menos.\n",
        "\n",
        "\n",
        "Total_Clientes_Menos_de_3_Llamadas = len(df1[df1['customer service calls'] <=3])\n",
        "#print(f\"Total de clientes que llamaron  menos de 3 veces al servicio al cliente: {Total_Clientes_Menos_de_3_Llamadas}\")\n",
        "print(\"Total de clientes que llamaron menos de 3 veces al servicio al cliente: \",Total_Clientes_Menos_de_3_Llamadas)\n",
        "\n",
        "#Compara la tasa de churn entre ambos grupos.\n",
        "#Grupo 2: Clientes que llamaron 3 veces o menos. Compara la tasa de churn entre ambos grupos.\n",
        "\n",
        "Total_Clientes_Menos_de_3_Llamadas_y_Desertados = len(df1[(df1['churn'] == True) & (df1['customer service calls'] <= 3)])\n",
        "print(f\"Total de clientes con <=3 llamadas y  Desertados: {Total_Clientes_Menos_de_3_Llamadas_y_Desertados}\")\n",
        "Total_Clientes_Menos_de_3_Llamadas_y_No_Desertados = len(df1[(df1['churn'] == False ) & (df1['customer service calls'] <= 3)])\n",
        "print(f\"Total de clientes con <=3 llamadas y No Desertados: {Total_Clientes_Menos_de_3_Llamadas_y_No_Desertados}\")\n",
        "\n",
        "\n",
        "Total_Clientes_Mas_de_3_Llamadas_y_Desertados = len(df1[(df1['churn'] == True) & (df1['customer service calls'] >= 3)])\n",
        "print(f\"Total de clientes con >=3 llamadas y  Desertados: {Total_Clientes_Mas_de_3_Llamadas_y_Desertados}\")\n",
        "Total_Clientes_Mas_de_3_Llamadas_y_No_Desertados = len(df1[(df1['churn'] == False ) & (df1['customer service calls'] >= 3)])\n",
        "print(f\"Total de clientes con >=3 llamadas y No Desertados: {Total_Clientes_Mas_de_3_Llamadas_y_No_Desertados}\")\n",
        "\n",
        "####\n",
        "\n",
        "\n",
        "\n",
        "\n"
      ],
      "metadata": {
        "id": "ac9qDXgrGz-M",
        "colab": {
          "base_uri": "https://localhost:8080/"
        },
        "outputId": "774045ab-c5f7-4b9a-86ba-34d4bc6d4122"
      },
      "execution_count": null,
      "outputs": [
        {
          "output_type": "stream",
          "name": "stdout",
          "text": [
            "Promedio minutos Dia en clientes Desertados: 2\n",
            "Promedio_minutos Dia  en Clinetes  No Desertados: 1\n",
            "Promedio minutos Dia en clientes Desertados: 2\n",
            "Promedio_minutos Dia  en Clinetes  No Desertados: 1\n",
            "Total de clientes que llamaron más de 3 veces al servicio al cliente:  267\n",
            "Total de clientes que llamaron menos de 3 veces al servicio al cliente:  3066\n",
            "Total de clientes con <=3 llamadas y  Desertados: 345\n",
            "Total de clientes con <=3 llamadas y No Desertados: 2721\n",
            "Total de clientes con >=3 llamadas y  Desertados: 182\n",
            "Total de clientes con >=3 llamadas y No Desertados: 514\n"
          ]
        }
      ]
    },
    {
      "cell_type": "markdown",
      "source": [
        "**Análisis del Costo de las Llamadas y Churn**\n",
        "\n",
        "Compara el costo total de llamadas diurnas (total day charge) entre clientes con y sin churn.\n",
        "\n",
        "Compara el costo total de llamadas nocturnas (total night charge).\n",
        "\n",
        "¿Los clientes con mayor gasto en llamadas internacionales (total intl charge) tienen más probabilidades de desertar?"
      ],
      "metadata": {
        "id": "U7oTziiyG0Wb"
      }
    },
    {
      "cell_type": "code",
      "source": [
        "# Solución propuesta\n",
        "\n",
        "### Compara el costo total de llamadas diurnas (total day charge) entre clientes con y sin churn\n",
        "Promedio_Costo_Total_De_Llamadas_Diurnas_Desertados = round(df1[df1['churn'] == True]['total day charge'].mean(),2)\n",
        "Promedio_Costo_Total_De_Llamadas_Diurnas_No_Desertados = round(df1[df1['churn'] == False]['total day charge'].mean(),2)\n",
        "###Compara el costo total de llamadas nocturnas (total night charge).\n",
        "Promedio_Costo_Total_De_Llamadas_Nocturnas_Desertados = round(df1[df1['churn'] == True]['total night charge'].mean(),2)\n",
        "Promedio_Costo_Total_De_Llamadas_Nocturnas_No_Desertados = round(df1[df1['churn'] == False]['total night charge'].mean(),2)\n",
        "\n",
        "\n",
        "print(f\"Promedio_Costo_Total_De_Llamadas_Diurnas: {Promedio_Costo_Total_De_Llamadas_Diurnas_Desertados}\")\n",
        "print(f\"Promedio_Costo_Total_De_Llamadas_Nocturnas: {Promedio_Costo_Total_De_Llamadas_Diurnas_No_Desertados}\")\n",
        "print(f\"Promedio_Costo_Total_De_Llamadas_Diurnas: {Promedio_Costo_Total_De_Llamadas_Nocturnas_Desertados}\")\n",
        "print(f\"Promedio_Costo_Total_De_Llamadas_Nocturnas: {Promedio_Costo_Total_De_Llamadas_Nocturnas_No_Desertados}\")\n"
      ],
      "metadata": {
        "id": "YWGmcLdoIYwx",
        "colab": {
          "base_uri": "https://localhost:8080/"
        },
        "outputId": "ed7e52b8-34cf-4387-b1db-d0968f52c190"
      },
      "execution_count": null,
      "outputs": [
        {
          "output_type": "stream",
          "name": "stdout",
          "text": [
            "Promedio_Costo_Total_De_Llamadas_Diurnas: 35.18\n",
            "Promedio_Costo_Total_De_Llamadas_Nocturnas: 29.78\n",
            "Promedio_Costo_Total_De_Llamadas_Diurnas: 9.24\n",
            "Promedio_Costo_Total_De_Llamadas_Nocturnas: 9.01\n"
          ]
        }
      ]
    }
  ]
}